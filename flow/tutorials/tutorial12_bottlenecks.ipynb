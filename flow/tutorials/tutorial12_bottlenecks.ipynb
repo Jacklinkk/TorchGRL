{
 "cells": [
  {
   "cell_type": "markdown",
   "metadata": {},
   "source": [
    "# Tutorial 12: Bottleneck Experiments\n",
    "\n",
    "This tutorial walks you through the process of *running the bottleneck experiments*. The bottleneck experiment, depicted in Fig. 1, is intended to illustrate the dynamics of traffic in a bottleneck. In particular, our bottleneck is intended to imitate the dynamics of traffic on the San Francisco-Oakland Bay Bridge, where fifteen lanes narrow to eight to five. In our bottleneck, we have N * 4 lanes narrow to N * 2 to N, where N is a scaling factor that can be used to increase the number of lanes. As demonstrated in Fig. 2, this bottleneck has a phenomenon known as *capacity drop*: as the number of vehicles flowing into the system increases the number of exiting vehicles initially increases. However, above a critical flow of entering vehicles, the output of the system starts to decrease as congestion forms. Just like in the San Francisco-Oakland Bay Bridge, there is a configurable toll booth and a set of traffic lights that can be used to control the inflow. Each of the merges is implemented as a zipper merge, in which the vehicles merge as late as possible. \n",
    "\n",
    "<center>\n",
    "<img src=\"img/bottleneck.png\">\n",
    "\n",
    "Figure 1. A visual of the bottleneck that is modeled on the San Francisco-Oakland bay bridge. There are two bottlenecks, the first cuts the number of lanes in half and the second cuts the number of lanes in half again.</center>\n",
    "\n",
    "<center>\n",
    "<img src=\"img/capacity_curve.png\">\n",
    "</center>\n",
    "<center>\n",
    "Figure 2. The inflow-outflow relationship for the bottleneck depicted in Fig. 1. As the inflow increases, the outflow steadily ticks up, but above a critical inflow the outflow suddenly ticks down and remains at that value. This phenomenon is known as *capacity drop*. The shaded area indicates 1 std deviation around the outflow.\n",
    "</center>\n",
    "\n",
    "\n",
    "The remainder of this tutorial is organized as follows:\n",
    "\n",
    "* Section 1 introduces the basic configurable parameters of the traffic light environment.\n",
    "* Section 2 shows how to configure the toll booth.\n",
    "* Section 3 shows how to use the traffic lights to perform ramp metering.\n",
    "* Section 4 introduces some autonomous vehicles into the system and describes the Markov Decision Process that the bottleneck comes pre-configured with. "
   ]
  },
  {
   "cell_type": "markdown",
   "metadata": {},
   "source": [
    "## 1. Configuring the Environment\n",
    "\n",
    "Here we describe the different basic configurable parameters of the bottleneck environment. First, we import the necessary classes and parameters to run the environment. We will highlight the effects of changing certain parameters."
   ]
  },
  {
   "cell_type": "code",
   "execution_count": null,
   "metadata": {},
   "outputs": [],
   "source": [
    "# Import all of the necessary pieces of Flow to run the experiments\n",
    "from flow.core.params import SumoParams, EnvParams, NetParams, InitialConfig, \\\n",
    "    InFlows, SumoLaneChangeParams, SumoCarFollowingParams\n",
    "from flow.core.params import VehicleParams\n",
    "from flow.core.params import TrafficLightParams\n",
    "\n",
    "from flow.networks.bottleneck import BottleneckNetwork\n",
    "from flow.controllers import SimLaneChangeController, ContinuousRouter\n",
    "from flow.envs.bottleneck import BottleneckEnv\n",
    "from flow.core.experiment import Experiment\n",
    "\n",
    "import logging\n",
    "\n",
    "def run_exp(flow_rate,\n",
    "            scaling=1,\n",
    "            disable_tb=True,\n",
    "            disable_ramp_meter=True,\n",
    "            n_crit=1000,\n",
    "            feedback_coef=20):\n",
    "    # Set up SUMO to render the results, take a time_step of 0.5 seconds per simulation step\n",
    "    sim_params = SumoParams(\n",
    "        sim_step=0.5,\n",
    "        render=True,\n",
    "        overtake_right=False,\n",
    "        restart_instance=False)\n",
    "\n",
    "    vehicles = VehicleParams()\n",
    "\n",
    "    # Add a few vehicles to initialize the simulation. The vehicles have all lane changing enabled, \n",
    "    # which is mode 1621\n",
    "    vehicles.add(\n",
    "        veh_id=\"human\",\n",
    "        lane_change_controller=(SimLaneChangeController, {}),\n",
    "        routing_controller=(ContinuousRouter, {}),\n",
    "        car_following_params=SumoCarFollowingParams(\n",
    "            speed_mode=25,\n",
    "        ),\n",
    "        lane_change_params=SumoLaneChangeParams(\n",
    "            lane_change_mode=1621,\n",
    "        ),\n",
    "        num_vehicles=1)\n",
    "\n",
    "    # These are additional params that configure the bottleneck experiment. They are explained in more\n",
    "    # detail below.\n",
    "    additional_env_params = {\n",
    "        \"target_velocity\": 40,\n",
    "        \"max_accel\": 1,\n",
    "        \"max_decel\": 1,\n",
    "        \"lane_change_duration\": 5,\n",
    "        \"add_rl_if_exit\": False,\n",
    "        \"disable_tb\": disable_tb,\n",
    "        \"disable_ramp_metering\": disable_ramp_meter,\n",
    "        \"n_crit\": n_crit,\n",
    "        \"feedback_coeff\": feedback_coef,\n",
    "    }\n",
    "    # Set up the experiment to run for 1000 time steps i.e. 500 seconds (1000 * 0.5)\n",
    "    env_params = EnvParams(\n",
    "        horizon=1000, additional_params=additional_env_params)\n",
    "\n",
    "    # Add vehicle inflows at the front of the bottleneck. They enter with a flow_rate number of vehicles \n",
    "    # per hours and with a speed of 10 m/s\n",
    "    inflow = InFlows()\n",
    "    inflow.add(\n",
    "        veh_type=\"human\",\n",
    "        edge=\"1\",\n",
    "        vehsPerHour=flow_rate,\n",
    "        departLane=\"random\",\n",
    "        departSpeed=10)\n",
    "\n",
    "    # Initialize the traffic lights. The meanings of disable_tb and disable_ramp_meter are discussed later.\n",
    "    traffic_lights = TrafficLightParams()\n",
    "    if not disable_tb:\n",
    "        traffic_lights.add(node_id=\"2\")\n",
    "    if not disable_ramp_meter:\n",
    "        traffic_lights.add(node_id=\"3\")\n",
    "\n",
    "    additional_net_params = {\"scaling\": scaling, \"speed_limit\": 23}\n",
    "    net_params = NetParams(\n",
    "        inflows=inflow,\n",
    "        additional_params=additional_net_params)\n",
    "\n",
    "    initial_config = InitialConfig(\n",
    "        spacing=\"random\",\n",
    "        min_gap=5,\n",
    "        lanes_distribution=float(\"inf\"),\n",
    "        edges_distribution=[\"2\", \"3\", \"4\", \"5\"])\n",
    "\n",
    "    flow_params = dict(\n",
    "        exp_tag='bay_bridge_toll',\n",
    "        env_name=BottleneckEnv,\n",
    "        network=BottleneckNetwork,\n",
    "        simulator='traci',\n",
    "        sim=sim_params,\n",
    "        env=env_params,\n",
    "        net=net_params,\n",
    "        veh=vehicles,\n",
    "        initial=initial_config,\n",
    "        tls=traffic_lights,\n",
    "    )\n",
    "\n",
    "    # number of time steps\n",
    "    flow_params['env'].horizon = 1000\n",
    "    exp = Experiment(flow_params)\n",
    "\n",
    "    # run the sumo simulation\n",
    "    _ = exp.run(1)"
   ]
  },
  {
   "cell_type": "markdown",
   "metadata": {},
   "source": [
    "### The effects of scaling\n",
    "Setting scaling to values greater than 1 leads to the number of lanes increasing. Scaling=1 means we start with four lanes, scaling=2 leads to us starting wth 8 lanes, etc.\n",
    "\n",
    "Fig. 3 depicts the effect of scaling on the bottleneck.\n",
    "\n",
    "<center>\n",
    "<img src=\"img/bottleneck_scaling_1.png\">\n",
    "<img src=\"img/bottleneck_scaling_2.png\">\n",
    "\n",
    "Figure 3. The effects of scaling on the bottleneck. If we set scaling to 1, the number of lanes goes 4 to 2 to 1. If we set scaling to 2, the number of lanes goes 8 to 4 to 2. This pattern continues as we increase the scaling values.\n",
    "</center>\n",
    "\n",
    "**scaling=1**"
   ]
  },
  {
   "cell_type": "code",
   "execution_count": null,
   "metadata": {},
   "outputs": [],
   "source": [
    "run_exp(flow_rate=1000, scaling=1, disable_tb=True, disable_ramp_meter=True)"
   ]
  },
  {
   "cell_type": "markdown",
   "metadata": {},
   "source": [
    "**scaling=2**"
   ]
  },
  {
   "cell_type": "code",
   "execution_count": null,
   "metadata": {},
   "outputs": [],
   "source": [
    "run_exp(flow_rate=1000, scaling=2, disable_tb=True, disable_ramp_meter=True)"
   ]
  },
  {
   "cell_type": "markdown",
   "metadata": {},
   "source": [
    "### The effects of inflow\n",
    "Increasing the inflow rate into the system controls whether congestion sets in or not. For values approximately less than 1000, congestion rarely sets in. As the value of the inflow increases, congestion becomes more likely. Around an inflow of around 1600 congestion occurs with high certainty."
   ]
  },
  {
   "cell_type": "code",
   "execution_count": null,
   "metadata": {},
   "outputs": [],
   "source": [
    "run_exp(flow_rate=1000, scaling=1, disable_tb=True, disable_ramp_meter=True)"
   ]
  },
  {
   "cell_type": "code",
   "execution_count": null,
   "metadata": {},
   "outputs": [],
   "source": [
    "run_exp(flow_rate=1400, scaling=1, disable_tb=True, disable_ramp_meter=True)"
   ]
  },
  {
   "cell_type": "code",
   "execution_count": null,
   "metadata": {},
   "outputs": [],
   "source": [
    "run_exp(flow_rate=2400, scaling=1, disable_tb=True, disable_ramp_meter=True)"
   ]
  },
  {
   "cell_type": "markdown",
   "metadata": {},
   "source": [
    "## Adding a tollbooth\n",
    "On the segment indicated in Fig. 4, we have set up a series of rules that allow users to mimic the effect of a tollbooth. If *disable_tb=False*, cars that approach the toll-booth have their color changed to blue to indicate that they are in the toll-booth region. Their lane changing is disabled. As they come to the front of the toll-booth, we sample from a gaussian to determine how long they should be held at the toll booth. The holding process is imitated by a red light that remains red for the duration of the holding time. As indicated in the figure, the outer lanes are fast-trak lanes; their mean holding time is set to be lower than the holding time of the other toll-booth lanes. For the exact values of the holding parameters, please refer to the *BottleneckEnv* class in *flow/envs/bottleneck.py*\n",
    "\n",
    "<img src=\"img/bottleneck_guide.png\">\n",
    "\n",
    "<center>Figure 4: A bottleneck with both the toll and the ramp meter enabled</center>"
   ]
  },
  {
   "cell_type": "code",
   "execution_count": null,
   "metadata": {},
   "outputs": [],
   "source": [
    "run_exp(flow_rate=1000, scaling=1, disable_tb=False, disable_ramp_meter=True)"
   ]
  },
  {
   "cell_type": "markdown",
   "metadata": {},
   "source": [
    "## Adding a ramp meter\n",
    "As indicated in Fig. 5, we also have a feedback ramp meter that can be used to apply control to the bottleneck. The ramp meter runs the ALINEA algorithm for metering control; in short, the algorithm controls how long the lights are red for as a function of the congestion. If the number of vehicles in section 4, shown in Fig. 6 exceed a critical value then the red time of the light begins to increase so as to restrict the inflow and allow congestion to dissipate. If it decreases below a critical value then the red time of the light begins to decrease. Note that vehicles approaching the light are colored blue and their lane changing is disabled until they pass through the light.\n",
    "\n",
    "<img src=\"img/segment_4_highlight.png\">\n",
    "\n",
    "<center>Figure 4: The section whose number of vehicles we use to decide how long the red light is on for.</center>\n",
    "\n",
    "We highlight a few of the parameters that can be used to modify the ALINEA algorithm:\n",
    "\n",
    "### n_crit:\n",
    "*n_crit* sets the number of vehicles around which we try to stabilize the system. If the number of vehicles in section 4 increases above n_crit the red time will begin to increase. If *n_crit* is set too low than the flow will not be maximized as the traffic lights will be too aggressive in restricting inflow; conversely if n_crit is set too high then the traffic lights will not be aggressive enough and the congestion will never dissipate."
   ]
  },
  {
   "cell_type": "code",
   "execution_count": null,
   "metadata": {},
   "outputs": [],
   "source": [
    "## An example of a good value of n_crit\n",
    "run_exp(flow_rate=1000, scaling=1, disable_tb=True, disable_ramp_meter=False, n_crit=8)"
   ]
  },
  {
   "cell_type": "code",
   "execution_count": null,
   "metadata": {},
   "outputs": [],
   "source": [
    "## An example where n_crit is way too low\n",
    "run_exp(flow_rate=1000, scaling=1, disable_tb=True, disable_ramp_meter=False, n_crit=2)"
   ]
  },
  {
   "cell_type": "code",
   "execution_count": null,
   "metadata": {},
   "outputs": [],
   "source": [
    "## An example where n_crit is way too high\n",
    "run_exp(flow_rate=1000, scaling=1, disable_tb=True, disable_ramp_meter=False, n_crit=30)"
   ]
  },
  {
   "cell_type": "markdown",
   "metadata": {},
   "source": [
    "### feedback_coef:\n",
    "*feedback_coef* sets the aggressiveness with which the red light time changes in response to the number of vehicles in section 4 not being at *n_crit*. High values cause the total red light time to shift very aggressively, low values cause it to react more slowly. You can play with the values below and see the effects"
   ]
  },
  {
   "cell_type": "code",
   "execution_count": null,
   "metadata": {},
   "outputs": [],
   "source": [
    "## An example of a relatively stable feedback value\n",
    "run_exp(flow_rate=1000, scaling=1, disable_tb=False, disable_ramp_meter=False, n_crit=8, feedback_coef=20)"
   ]
  },
  {
   "cell_type": "code",
   "execution_count": null,
   "metadata": {},
   "outputs": [],
   "source": [
    "## An example of a feedback value that will cause the red time to swing wildly\n",
    "run_exp(flow_rate=1000, scaling=1, disable_tb=True, disable_ramp_meter=False, n_crit=8, feedback_coef=200)"
   ]
  },
  {
   "cell_type": "code",
   "execution_count": null,
   "metadata": {},
   "outputs": [],
   "source": [
    "## An example of a feedback value that will cause the red time to change too slowly\n",
    "run_exp(flow_rate=1000, scaling=1, disable_tb=True, disable_ramp_meter=False, n_crit=8, feedback_coef=1)"
   ]
  },
  {
   "cell_type": "markdown",
   "metadata": {},
   "source": [
    "For a reference on all of the different parameters that can be used to modify the ALINEA algorithm, please refer to the documentation in *BottleneckEnv* in *flow/envs/bottleneck.py*"
   ]
  },
  {
   "cell_type": "markdown",
   "metadata": {},
   "source": [
    "## Instantiating a reinforcement learning experiment\n",
    "\n",
    "While there are many different ways you might use autonomous vehicles (AVs) to try to prevent the effect of a capacity drop, here we demonstrate the particular control scheme used in \"Lagrangian control through deep-rl: Applications to bottleneck decongestion\" by E. Vinitsky, K. Parvate et. al. \n",
    "\n",
    "The code referenced is in *examples/exp_configs/rl/singleagent/singleagent_bottleneck.py*.\n",
    "\n",
    "We insert a flow of autonomous vehicles as a fraction of the total flow of the system. Due to randomness in the inflow, the number of AVs in the system varies.\n",
    "In this scheme, all of the AVs are controlled by a single controller. However, because neural network controllers necessarily take in a fixed sized input and have a fixed size output, we come up with a state parametrization and action parametrization that can handle the varying number of vehicles.\n",
    "\n",
    "To create a fixed size set of states, the entire bottleneck is divided into segments, depicted in white in Fig. 7, and in each of those segments we return aggregate statistics about the speed, number, and density of both the vehicles and AVs in each of the lanes in the segment. For the actions, in each of the action-segments, depicted in ref in Fig. 7 we allow the controller to increase or decrease the speed limit of all the AVs in each lane in that segment.  \n",
    "\n",
    "<img src=\"img/bottleneck_control_scheme.png\">\n",
    "\n",
    "<center>Figure 7: A depiction of the scheme used to create a fixed size state and action space for the bottleneck. Segments in white correspond to the division of the bottleneck for states, and segments in red for the division into action. The key at the bottom left indicates the actual information used in the state space for each lane. The numbers for each lane indicate the values that the information would take on for that lane.</center>\n",
    "\n",
    "### Code\n",
    "Note, for the following code to run it is necessary to have RLlib installed. It should be installed if you have completed the [Flow setup instructions](https://flow.readthedocs.io/en/latest/flow_setup.html#local-installation-of-flow).\n",
    "\n",
    "The relevant parameters are:\n",
    "- symmetric: If true, the same action is applied to every lane in each segment\n",
    "- controlled_segments: A list of tuples describing wheher a segment is controlled, how many divisions each segment is broken up into, and the name of the segment. For example, controlled_segments = `[(\"1\", 1, False), (\"2\", 2, True), (\"3\", 2, True), (\"4\", 2, True), (\"5\", 1, False)]` indicates that segment 1 is uncontrolled, segment 2 is controlled and is divided into two pieces, etc.\n",
    "- observed segments: : A list of tuples describing wheher a segment is observed, how many divisions each segment is broken up into, and the name of the segment. For example, observed_segments = `[(\"1\", 1, False), (\"2\", 2, True), (\"3\", 2, True), (\"4\", 2, True), (\"5\", 1, False)]` indicates that segment 1 is uncontrolled, segment 2 is controlled and is divided into two pieces, etc.\n",
    "- reset_inflow: If true, the inflow is randomized for every rollout.\n",
    "- inflow_range: This contains the range of inflows from which inflows are uniformly sampled if reset_inflow is true."
   ]
  },
  {
   "cell_type": "markdown",
   "metadata": {},
   "source": [
    "## Multi-agent reinforcement learning experiment\n",
    "### In progress"
   ]
  },
  {
   "cell_type": "code",
   "execution_count": null,
   "metadata": {},
   "outputs": [],
   "source": []
  }
 ],
 "metadata": {
  "kernelspec": {
   "display_name": "Python 3",
   "language": "python",
   "name": "python3"
  },
  "language_info": {
   "codemirror_mode": {
    "name": "ipython",
    "version": 3
   },
   "file_extension": ".py",
   "mimetype": "text/x-python",
   "name": "python",
   "nbconvert_exporter": "python",
   "pygments_lexer": "ipython3",
   "version": "3.6.8"
  }
 },
 "nbformat": 4,
 "nbformat_minor": 2
}
